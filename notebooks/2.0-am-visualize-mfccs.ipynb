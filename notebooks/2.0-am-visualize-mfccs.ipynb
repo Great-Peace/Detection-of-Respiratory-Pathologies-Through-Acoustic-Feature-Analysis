{
 "cells": [
  {
   "metadata": {
    "ExecuteTime": {
     "end_time": "2025-04-02T21:08:38.504990Z",
     "start_time": "2025-04-02T21:08:38.319248Z"
    }
   },
   "cell_type": "code",
   "source": [
    "import os\n",
    "import pandas as pd\n",
    "\n",
    "# Paths\n",
    "metadata_path = '../data/interim/metadata.csv'\n",
    "wav_dir = '../data/raw/COUGHVID'\n",
    "\n",
    "# Load raw metadata\n",
    "metadata = pd.read_csv(metadata_path)\n",
    "metadata['id'] = metadata['filename'].str.replace('.wav', '', regex=False)\n",
    "\n",
    "# List actual .wav files\n",
    "wav_ids = {f.replace('.wav', '') for f in os.listdir(wav_dir) if f.endswith('.wav')}\n",
    "metadata['has_wav'] = metadata['id'].isin(wav_ids)\n",
    "\n",
    "print(f\"Total entries: {len(metadata)}\")\n",
    "print(f\"With .wav files: {metadata['has_wav'].sum()}\")\n"
   ],
   "id": "eabdfd90f24946c4",
   "outputs": [
    {
     "name": "stdout",
     "output_type": "stream",
     "text": [
      "Total entries: 27550\n",
      "With .wav files: 27550\n"
     ]
    }
   ],
   "execution_count": 14
  },
  {
   "cell_type": "code",
   "id": "initial_id",
   "metadata": {
    "collapsed": true,
    "ExecuteTime": {
     "end_time": "2025-04-02T21:11:45.848169Z",
     "start_time": "2025-04-02T21:11:45.770097Z"
    }
   },
   "source": [
    "filtered_df = metadata[\n",
    "    (metadata['has_wav']) &                           # Only samples with .wav files\n",
    "    (metadata['status'].isin(['COVID-19', 'healthy'])) &  # Binary labels only\n",
    "    (metadata['cough_detected'] >= 0.3)                # Medium to high-quality coughs\n",
    "    ].copy()\n",
    "\n",
    "# Reset index and sort by ID for reproducibility\n",
    "filtered_df = filtered_df.reset_index(drop=True).sort_values('id')\n",
    "\n",
    "# Save to your own clean metadata CSV\n",
    "out_path = '../data/interim/metadata_clean.csv'\n",
    "os.makedirs(os.path.dirname(out_path), exist_ok=True)\n",
    "filtered_df.to_csv(out_path, index=False)\n",
    "\n",
    "print(f\"✅ Saved cleaned metadata to: {out_path}\")\n",
    "print(f\"Samples retained: {len(filtered_df)}\")\n"
   ],
   "outputs": [
    {
     "name": "stdout",
     "output_type": "stream",
     "text": [
      "✅ Saved cleaned metadata to: ../data/interim/metadata_clean.csv\n",
      "Samples retained: 11285\n"
     ]
    }
   ],
   "execution_count": 17
  },
  {
   "metadata": {
    "ExecuteTime": {
     "end_time": "2025-04-02T21:19:48.485045Z",
     "start_time": "2025-04-02T21:12:51.609759Z"
    }
   },
   "cell_type": "code",
   "source": [
    "import librosa\n",
    "import numpy as np\n",
    "from tqdm import tqdm\n",
    "import soundfile as sf\n",
    "\n",
    "# Load cleaned metadata\n",
    "clean_df = pd.read_csv('../data/interim/metadata_clean.csv')\n",
    "\n",
    "# Paths\n",
    "wav_dir = '../data/raw/COUGHVID/'\n",
    "mfcc_out_dir = 'data/processed/mfccs/'\n",
    "os.makedirs(mfcc_out_dir, exist_ok=True)\n",
    "\n",
    "# Settings\n",
    "SR = 16000\n",
    "DURATION = 4\n",
    "N_MFCC = 40\n",
    "\n",
    "for _, row in tqdm(clean_df.iterrows(), total=len(clean_df)):\n",
    "    wav_id = row['id']\n",
    "    wav_path = os.path.join(wav_dir, f\"{wav_id}.wav\")\n",
    "    out_path = os.path.join(mfcc_out_dir, f\"{wav_id}.npy\")\n",
    "\n",
    "    try:\n",
    "        y, _ = librosa.load(wav_path, sr=SR)\n",
    "        y = librosa.util.fix_length(y, size=SR * DURATION)  # pad/truncate\n",
    "\n",
    "        mfcc = librosa.feature.mfcc(y=y, sr=SR, n_mfcc=N_MFCC)\n",
    "        np.save(out_path, mfcc)\n",
    "    except Exception as e:\n",
    "        print(f\"⚠️ Skipped {wav_id}: {e}\")\n"
   ],
   "id": "9fd9dcb4a01a4d9e",
   "outputs": [
    {
     "name": "stderr",
     "output_type": "stream",
     "text": [
      "100%|██████████| 11285/11285 [06:56<00:00, 27.07it/s]\n"
     ]
    }
   ],
   "execution_count": 20
  },
  {
   "metadata": {},
   "cell_type": "code",
   "outputs": [],
   "execution_count": null,
   "source": "",
   "id": "cfea18539caa6ac7"
  }
 ],
 "metadata": {
  "kernelspec": {
   "display_name": "Python 3",
   "language": "python",
   "name": "python3"
  },
  "language_info": {
   "codemirror_mode": {
    "name": "ipython",
    "version": 2
   },
   "file_extension": ".py",
   "mimetype": "text/x-python",
   "name": "python",
   "nbconvert_exporter": "python",
   "pygments_lexer": "ipython2",
   "version": "2.7.6"
  }
 },
 "nbformat": 4,
 "nbformat_minor": 5
}
