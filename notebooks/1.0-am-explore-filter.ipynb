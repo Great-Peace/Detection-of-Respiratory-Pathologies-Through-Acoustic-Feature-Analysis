{
 "cells": [
  {
   "cell_type": "code",
   "id": "initial_id",
   "metadata": {
    "collapsed": true,
    "ExecuteTime": {
     "end_time": "2025-04-02T18:31:53.894811Z",
     "start_time": "2025-04-02T18:31:53.840976Z"
    }
   },
   "source": [
    "# 1. LOAD METADATA\n",
    "import pandas as pd\n",
    "from pathlib import Path\n",
    "\n",
    "INPUT_PATH = Path(\"../data/interim/metadata.csv\")\n",
    "df = pd.read_csv(INPUT_PATH)\n",
    "\n",
    "print(f\"Loaded {len(df)} samples\")\n",
    "df.head()\n"
   ],
   "outputs": [
    {
     "name": "stdout",
     "output_type": "stream",
     "text": [
      "Loaded 27550 samples\n"
     ]
    },
    {
     "data": {
      "text/plain": [
       "                                   filename  \\\n",
       "0  00014dcc-0f06-4c27-8c7b-737b18a2cf4c.wav   \n",
       "1  00039425-7f3a-42aa-ac13-834aaa2b6b92.wav   \n",
       "2  0007c6f1-5441-40e6-9aaf-a761d8f2da3b.wav   \n",
       "3  0009eb28-d8be-4dc1-92bb-907e53bc5c7a.wav   \n",
       "4  0012c608-33d0-4ef7-bde3-75a0b1a0024e.wav   \n",
       "\n",
       "                                   json_file   status   age  gender  \\\n",
       "0  00014dcc-0f06-4c27-8c7b-737b18a2cf4c.json      NaN   NaN     NaN   \n",
       "1  00039425-7f3a-42aa-ac13-834aaa2b6b92.json  healthy  15.0    male   \n",
       "2  0007c6f1-5441-40e6-9aaf-a761d8f2da3b.json  healthy  46.0  female   \n",
       "3  0009eb28-d8be-4dc1-92bb-907e53bc5c7a.json  healthy  34.0    male   \n",
       "4  0012c608-33d0-4ef7-bde3-75a0b1a0024e.json      NaN   NaN     NaN   \n",
       "\n",
       "   cough_detected respiratory_condition fever_muscle_pain  \\\n",
       "0          0.0155           unspecified       unspecified   \n",
       "1          0.9609                 False             False   \n",
       "2          0.1643                 False             False   \n",
       "3          0.9301                  True             False   \n",
       "4          0.0482           unspecified       unspecified   \n",
       "\n",
       "  difficulty_in_breathing  \n",
       "0             unspecified  \n",
       "1             unspecified  \n",
       "2             unspecified  \n",
       "3             unspecified  \n",
       "4             unspecified  "
      ],
      "text/html": [
       "<div>\n",
       "<style scoped>\n",
       "    .dataframe tbody tr th:only-of-type {\n",
       "        vertical-align: middle;\n",
       "    }\n",
       "\n",
       "    .dataframe tbody tr th {\n",
       "        vertical-align: top;\n",
       "    }\n",
       "\n",
       "    .dataframe thead th {\n",
       "        text-align: right;\n",
       "    }\n",
       "</style>\n",
       "<table border=\"1\" class=\"dataframe\">\n",
       "  <thead>\n",
       "    <tr style=\"text-align: right;\">\n",
       "      <th></th>\n",
       "      <th>filename</th>\n",
       "      <th>json_file</th>\n",
       "      <th>status</th>\n",
       "      <th>age</th>\n",
       "      <th>gender</th>\n",
       "      <th>cough_detected</th>\n",
       "      <th>respiratory_condition</th>\n",
       "      <th>fever_muscle_pain</th>\n",
       "      <th>difficulty_in_breathing</th>\n",
       "    </tr>\n",
       "  </thead>\n",
       "  <tbody>\n",
       "    <tr>\n",
       "      <th>0</th>\n",
       "      <td>00014dcc-0f06-4c27-8c7b-737b18a2cf4c.wav</td>\n",
       "      <td>00014dcc-0f06-4c27-8c7b-737b18a2cf4c.json</td>\n",
       "      <td>NaN</td>\n",
       "      <td>NaN</td>\n",
       "      <td>NaN</td>\n",
       "      <td>0.0155</td>\n",
       "      <td>unspecified</td>\n",
       "      <td>unspecified</td>\n",
       "      <td>unspecified</td>\n",
       "    </tr>\n",
       "    <tr>\n",
       "      <th>1</th>\n",
       "      <td>00039425-7f3a-42aa-ac13-834aaa2b6b92.wav</td>\n",
       "      <td>00039425-7f3a-42aa-ac13-834aaa2b6b92.json</td>\n",
       "      <td>healthy</td>\n",
       "      <td>15.0</td>\n",
       "      <td>male</td>\n",
       "      <td>0.9609</td>\n",
       "      <td>False</td>\n",
       "      <td>False</td>\n",
       "      <td>unspecified</td>\n",
       "    </tr>\n",
       "    <tr>\n",
       "      <th>2</th>\n",
       "      <td>0007c6f1-5441-40e6-9aaf-a761d8f2da3b.wav</td>\n",
       "      <td>0007c6f1-5441-40e6-9aaf-a761d8f2da3b.json</td>\n",
       "      <td>healthy</td>\n",
       "      <td>46.0</td>\n",
       "      <td>female</td>\n",
       "      <td>0.1643</td>\n",
       "      <td>False</td>\n",
       "      <td>False</td>\n",
       "      <td>unspecified</td>\n",
       "    </tr>\n",
       "    <tr>\n",
       "      <th>3</th>\n",
       "      <td>0009eb28-d8be-4dc1-92bb-907e53bc5c7a.wav</td>\n",
       "      <td>0009eb28-d8be-4dc1-92bb-907e53bc5c7a.json</td>\n",
       "      <td>healthy</td>\n",
       "      <td>34.0</td>\n",
       "      <td>male</td>\n",
       "      <td>0.9301</td>\n",
       "      <td>True</td>\n",
       "      <td>False</td>\n",
       "      <td>unspecified</td>\n",
       "    </tr>\n",
       "    <tr>\n",
       "      <th>4</th>\n",
       "      <td>0012c608-33d0-4ef7-bde3-75a0b1a0024e.wav</td>\n",
       "      <td>0012c608-33d0-4ef7-bde3-75a0b1a0024e.json</td>\n",
       "      <td>NaN</td>\n",
       "      <td>NaN</td>\n",
       "      <td>NaN</td>\n",
       "      <td>0.0482</td>\n",
       "      <td>unspecified</td>\n",
       "      <td>unspecified</td>\n",
       "      <td>unspecified</td>\n",
       "    </tr>\n",
       "  </tbody>\n",
       "</table>\n",
       "</div>"
      ]
     },
     "execution_count": 2,
     "metadata": {},
     "output_type": "execute_result"
    }
   ],
   "execution_count": 2
  },
  {
   "metadata": {
    "ExecuteTime": {
     "end_time": "2025-04-02T18:31:54.881050Z",
     "start_time": "2025-04-02T18:31:54.876099Z"
    }
   },
   "cell_type": "code",
   "source": "print(df.head())",
   "id": "42c4ea6c1a290dcb",
   "outputs": [
    {
     "name": "stdout",
     "output_type": "stream",
     "text": [
      "                                   filename  \\\n",
      "0  00014dcc-0f06-4c27-8c7b-737b18a2cf4c.wav   \n",
      "1  00039425-7f3a-42aa-ac13-834aaa2b6b92.wav   \n",
      "2  0007c6f1-5441-40e6-9aaf-a761d8f2da3b.wav   \n",
      "3  0009eb28-d8be-4dc1-92bb-907e53bc5c7a.wav   \n",
      "4  0012c608-33d0-4ef7-bde3-75a0b1a0024e.wav   \n",
      "\n",
      "                                   json_file   status   age  gender  \\\n",
      "0  00014dcc-0f06-4c27-8c7b-737b18a2cf4c.json      NaN   NaN     NaN   \n",
      "1  00039425-7f3a-42aa-ac13-834aaa2b6b92.json  healthy  15.0    male   \n",
      "2  0007c6f1-5441-40e6-9aaf-a761d8f2da3b.json  healthy  46.0  female   \n",
      "3  0009eb28-d8be-4dc1-92bb-907e53bc5c7a.json  healthy  34.0    male   \n",
      "4  0012c608-33d0-4ef7-bde3-75a0b1a0024e.json      NaN   NaN     NaN   \n",
      "\n",
      "   cough_detected respiratory_condition fever_muscle_pain  \\\n",
      "0          0.0155           unspecified       unspecified   \n",
      "1          0.9609                 False             False   \n",
      "2          0.1643                 False             False   \n",
      "3          0.9301                  True             False   \n",
      "4          0.0482           unspecified       unspecified   \n",
      "\n",
      "  difficulty_in_breathing  \n",
      "0             unspecified  \n",
      "1             unspecified  \n",
      "2             unspecified  \n",
      "3             unspecified  \n",
      "4             unspecified  \n"
     ]
    }
   ],
   "execution_count": 3
  },
  {
   "metadata": {
    "ExecuteTime": {
     "end_time": "2025-04-02T18:31:55.552252Z",
     "start_time": "2025-04-02T18:31:55.541491Z"
    }
   },
   "cell_type": "code",
   "source": [
    "# FILTER: keep high-confidence coughs + only COVID-19 or healthy labels\n",
    "threshold = 0.8  # conservative minimum for cough detection\n",
    "\n",
    "df_filtered = df[\n",
    "    (df[\"cough_detected\"] >= threshold) &\n",
    "    (df[\"status\"].isin([\"COVID-19\", \"healthy\"]))\n",
    "    ].copy()\n",
    "\n",
    "# Binary label: healthy → 0, COVID-19 → 1\n",
    "df_filtered[\"label\"] = df_filtered[\"status\"].map({\"healthy\": 0, \"COVID-19\": 1})\n",
    "\n",
    "print(f\"Filtered to {len(df_filtered)} samples (cough ≥ {threshold}, COVID vs Healthy)\")\n",
    "df_filtered[\"label\"].value_counts()\n"
   ],
   "id": "fa8d8eb8834466b1",
   "outputs": [
    {
     "name": "stdout",
     "output_type": "stream",
     "text": [
      "Filtered to 8850 samples (cough ≥ 0.8, COVID vs Healthy)\n"
     ]
    },
    {
     "data": {
      "text/plain": [
       "label\n",
       "0    8236\n",
       "1     614\n",
       "Name: count, dtype: int64"
      ]
     },
     "execution_count": 4,
     "metadata": {},
     "output_type": "execute_result"
    }
   ],
   "execution_count": 4
  },
  {
   "metadata": {
    "ExecuteTime": {
     "end_time": "2025-04-02T18:31:56.477739Z",
     "start_time": "2025-04-02T18:31:56.211886Z"
    }
   },
   "cell_type": "code",
   "source": [
    "df[\"cough_detected\"].describe()\n",
    "\n",
    "# visualize distribution\n",
    "import seaborn as sns\n",
    "import matplotlib.pyplot as plt\n",
    "\n",
    "sns.histplot(df[\"cough_detected\"], bins=30, kde=True)\n",
    "plt.title(\"Distribution of 'cough_detected' probabilities\")\n",
    "plt.show()\n"
   ],
   "id": "827686616b844ab4",
   "outputs": [
    {
     "data": {
      "text/plain": [
       "<Figure size 640x480 with 1 Axes>"
      ],
      "image/png": "[encoded data removed]"
     },
     "metadata": {},
     "output_type": "display_data"
    }
   ],
   "execution_count": 5
  },
  {
   "metadata": {
    "ExecuteTime": {
     "end_time": "2025-04-02T18:31:57.448504Z",
     "start_time": "2025-04-02T18:31:57.440794Z"
    }
   },
   "cell_type": "code",
   "source": [
    "# Optional: Gender and Age stats\n",
    "print(df_filtered[\"gender\"].value_counts())\n",
    "print(df_filtered[\"age\"].value_counts())\n"
   ],
   "id": "d9e0f787f03c1aca",
   "outputs": [
    {
     "name": "stdout",
     "output_type": "stream",
     "text": [
      "gender\n",
      "male      5934\n",
      "female    2870\n",
      "other       46\n",
      "Name: count, dtype: int64\n",
      "age\n",
      "30.0    304\n",
      "28.0    267\n",
      "35.0    244\n",
      "24.0    244\n",
      "40.0    242\n",
      "       ... \n",
      "21.2      1\n",
      "91.0      1\n",
      "99.0      1\n",
      "6.0       1\n",
      "3.0       1\n",
      "Name: count, Length: 91, dtype: int64\n"
     ]
    }
   ],
   "execution_count": 6
  },
  {
   "metadata": {
    "ExecuteTime": {
     "end_time": "2025-04-02T18:31:58.098348Z",
     "start_time": "2025-04-02T18:31:58.034543Z"
    }
   },
   "cell_type": "code",
   "source": [
    "# 4. SAVE CLEANED METADATA\n",
    "OUTPUT_PATH = Path(\"../data/interim/metadata_filtered.csv\")\n",
    "df_filtered.to_csv(OUTPUT_PATH, index=False)\n",
    "print(f\"Saved filtered metadata to: {OUTPUT_PATH}\")\n"
   ],
   "id": "79e398088ea11e9e",
   "outputs": [
    {
     "name": "stdout",
     "output_type": "stream",
     "text": [
      "Saved filtered metadata to: ../data/interim/metadata_filtered.csv\n"
     ]
    }
   ],
   "execution_count": 7
  },
  {
   "metadata": {
    "ExecuteTime": {
     "end_time": "2025-04-02T18:31:59.331950Z",
     "start_time": "2025-04-02T18:31:59.328420Z"
    }
   },
   "cell_type": "code",
   "source": "len(df_filtered)\n",
   "id": "e4ae114e99dec928",
   "outputs": [
    {
     "data": {
      "text/plain": [
       "8850"
      ]
     },
     "execution_count": 8,
     "metadata": {},
     "output_type": "execute_result"
    }
   ],
   "execution_count": 8
  },
  {
   "metadata": {
    "ExecuteTime": {
     "end_time": "2025-04-02T18:32:05.660570Z",
     "start_time": "2025-04-02T18:32:05.655571Z"
    }
   },
   "cell_type": "code",
   "source": "df_filtered[\"label\"].value_counts()\n",
   "id": "457135c8603b89d2",
   "outputs": [
    {
     "data": {
      "text/plain": [
       "label\n",
       "0    8236\n",
       "1     614\n",
       "Name: count, dtype: int64"
      ]
     },
     "execution_count": 9,
     "metadata": {},
     "output_type": "execute_result"
    }
   ],
   "execution_count": 9
  },
  {
   "metadata": {
    "ExecuteTime": {
     "end_time": "2025-04-02T18:32:24.793609Z",
     "start_time": "2025-04-02T18:32:24.701371Z"
    }
   },
   "cell_type": "code",
   "source": [
    "from pathlib import Path\n",
    "\n",
    "metadata_path = Path(\"../data/interim/metadata_filtered.csv\")\n",
    "mfcc_dir = Path(\"../data/processed/mfcc\")\n",
    "\n",
    "df = pd.read_csv(metadata_path)\n",
    "missing = [\n",
    "    f for f in df[\"filename\"]\n",
    "    if not (mfcc_dir / f.replace(\".wav\", \".npy\")).exists()\n",
    "]\n",
    "\n",
    "print(f\"{len(missing)} missing MFCC files.\")\n"
   ],
   "id": "37f377492a50ca54",
   "outputs": [
    {
     "name": "stdout",
     "output_type": "stream",
     "text": [
      "0 missing MFCC files.\n"
     ]
    }
   ],
   "execution_count": 11
  },
  {
   "metadata": {},
   "cell_type": "code",
   "outputs": [],
   "execution_count": null,
   "source": "",
   "id": "23a84d503b51d6e"
  }
 ],
 "metadata": {
  "kernelspec": {
   "display_name": "Python 3",
   "language": "python",
   "name": "python3"
  },
  "language_info": {
   "codemirror_mode": {
    "name": "ipython",
    "version": 2
   },
   "file_extension": ".py",
   "mimetype": "text/x-python",
   "name": "python",
   "nbconvert_exporter": "python",
   "pygments_lexer": "ipython2",
   "version": "2.7.6"
  }
 },
 "nbformat": 4,
 "nbformat_minor": 5
}
