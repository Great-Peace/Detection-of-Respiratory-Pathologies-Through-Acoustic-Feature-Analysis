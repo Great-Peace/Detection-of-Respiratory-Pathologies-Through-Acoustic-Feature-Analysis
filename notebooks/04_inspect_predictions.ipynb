{
 "cells": [
  {
   "cell_type": "code",
   "id": "initial_id",
   "metadata": {
    "collapsed": true,
    "ExecuteTime": {
     "end_time": "2025-04-02T19:18:04.296294Z",
     "start_time": "2025-04-02T19:18:04.265769Z"
    }
   },
   "source": [
    "# notebooks/04_inspect_predictions.ipynb\n",
    "\n",
    "import pandas as pd\n",
    "\n",
    "# Load predictions\n",
    "df = pd.read_csv(\"../data/interim/predictions.csv\")\n",
    "\n",
    "# Show basic info\n",
    "print(\"Shape:\", df.shape)\n",
    "print(\"Columns:\", df.columns.tolist())\n",
    "df.head()\n"
   ],
   "outputs": [
    {
     "name": "stdout",
     "output_type": "stream",
     "text": [
      "Shape: (8850, 12)\n",
      "Columns: ['filename', 'json_file', 'status', 'age', 'gender', 'cough_detected', 'respiratory_condition', 'fever_muscle_pain', 'difficulty_in_breathing', 'label', 'predicted_prob', 'predicted_label']\n"
     ]
    },
    {
     "data": {
      "text/plain": [
       "                                   filename  \\\n",
       "0  00039425-7f3a-42aa-ac13-834aaa2b6b92.wav   \n",
       "1  0009eb28-d8be-4dc1-92bb-907e53bc5c7a.wav   \n",
       "2  001328dc-ea5d-4847-9ccf-c5aa2a3f2d0f.wav   \n",
       "3  0028b68c-aca4-4f4f-bb1d-cb4ed5bbd952.wav   \n",
       "4  00291cce-36a0-4a29-9e2d-c1d96ca17242.wav   \n",
       "\n",
       "                                   json_file   status  \\\n",
       "0  00039425-7f3a-42aa-ac13-834aaa2b6b92.json  healthy   \n",
       "1  0009eb28-d8be-4dc1-92bb-907e53bc5c7a.json  healthy   \n",
       "2  001328dc-ea5d-4847-9ccf-c5aa2a3f2d0f.json  healthy   \n",
       "3  0028b68c-aca4-4f4f-bb1d-cb4ed5bbd952.json  healthy   \n",
       "4  00291cce-36a0-4a29-9e2d-c1d96ca17242.json  healthy   \n",
       "\n",
       "                                age  gender  \\\n",
       "0  tensor(15., dtype=torch.float64)    male   \n",
       "1  tensor(34., dtype=torch.float64)    male   \n",
       "2  tensor(21., dtype=torch.float64)    male   \n",
       "3  tensor(28., dtype=torch.float64)  female   \n",
       "4  tensor(15., dtype=torch.float64)    male   \n",
       "\n",
       "                        cough_detected respiratory_condition  \\\n",
       "0  tensor(0.9609, dtype=torch.float64)         tensor(False)   \n",
       "1  tensor(0.9301, dtype=torch.float64)          tensor(True)   \n",
       "2  tensor(0.9968, dtype=torch.float64)         tensor(False)   \n",
       "3  tensor(0.8937, dtype=torch.float64)         tensor(False)   \n",
       "4  tensor(0.9883, dtype=torch.float64)         tensor(False)   \n",
       "\n",
       "  fever_muscle_pain difficulty_in_breathing      label  predicted_prob  \\\n",
       "0     tensor(False)             unspecified  tensor(0)             0.0   \n",
       "1     tensor(False)             unspecified  tensor(0)             0.0   \n",
       "2     tensor(False)             unspecified  tensor(0)             0.0   \n",
       "3     tensor(False)             unspecified  tensor(0)             0.0   \n",
       "4     tensor(False)             unspecified  tensor(0)             0.0   \n",
       "\n",
       "   predicted_label  \n",
       "0                0  \n",
       "1                0  \n",
       "2                0  \n",
       "3                0  \n",
       "4                0  "
      ],
      "text/html": [
       "<div>\n",
       "<style scoped>\n",
       "    .dataframe tbody tr th:only-of-type {\n",
       "        vertical-align: middle;\n",
       "    }\n",
       "\n",
       "    .dataframe tbody tr th {\n",
       "        vertical-align: top;\n",
       "    }\n",
       "\n",
       "    .dataframe thead th {\n",
       "        text-align: right;\n",
       "    }\n",
       "</style>\n",
       "<table border=\"1\" class=\"dataframe\">\n",
       "  <thead>\n",
       "    <tr style=\"text-align: right;\">\n",
       "      <th></th>\n",
       "      <th>filename</th>\n",
       "      <th>json_file</th>\n",
       "      <th>status</th>\n",
       "      <th>age</th>\n",
       "      <th>gender</th>\n",
       "      <th>cough_detected</th>\n",
       "      <th>respiratory_condition</th>\n",
       "      <th>fever_muscle_pain</th>\n",
       "      <th>difficulty_in_breathing</th>\n",
       "      <th>label</th>\n",
       "      <th>predicted_prob</th>\n",
       "      <th>predicted_label</th>\n",
       "    </tr>\n",
       "  </thead>\n",
       "  <tbody>\n",
       "    <tr>\n",
       "      <th>0</th>\n",
       "      <td>00039425-7f3a-42aa-ac13-834aaa2b6b92.wav</td>\n",
       "      <td>00039425-7f3a-42aa-ac13-834aaa2b6b92.json</td>\n",
       "      <td>healthy</td>\n",
       "      <td>tensor(15., dtype=torch.float64)</td>\n",
       "      <td>male</td>\n",
       "      <td>tensor(0.9609, dtype=torch.float64)</td>\n",
       "      <td>tensor(False)</td>\n",
       "      <td>tensor(False)</td>\n",
       "      <td>unspecified</td>\n",
       "      <td>tensor(0)</td>\n",
       "      <td>0.0</td>\n",
       "      <td>0</td>\n",
       "    </tr>\n",
       "    <tr>\n",
       "      <th>1</th>\n",
       "      <td>0009eb28-d8be-4dc1-92bb-907e53bc5c7a.wav</td>\n",
       "      <td>0009eb28-d8be-4dc1-92bb-907e53bc5c7a.json</td>\n",
       "      <td>healthy</td>\n",
       "      <td>tensor(34., dtype=torch.float64)</td>\n",
       "      <td>male</td>\n",
       "      <td>tensor(0.9301, dtype=torch.float64)</td>\n",
       "      <td>tensor(True)</td>\n",
       "      <td>tensor(False)</td>\n",
       "      <td>unspecified</td>\n",
       "      <td>tensor(0)</td>\n",
       "      <td>0.0</td>\n",
       "      <td>0</td>\n",
       "    </tr>\n",
       "    <tr>\n",
       "      <th>2</th>\n",
       "      <td>001328dc-ea5d-4847-9ccf-c5aa2a3f2d0f.wav</td>\n",
       "      <td>001328dc-ea5d-4847-9ccf-c5aa2a3f2d0f.json</td>\n",
       "      <td>healthy</td>\n",
       "      <td>tensor(21., dtype=torch.float64)</td>\n",
       "      <td>male</td>\n",
       "      <td>tensor(0.9968, dtype=torch.float64)</td>\n",
       "      <td>tensor(False)</td>\n",
       "      <td>tensor(False)</td>\n",
       "      <td>unspecified</td>\n",
       "      <td>tensor(0)</td>\n",
       "      <td>0.0</td>\n",
       "      <td>0</td>\n",
       "    </tr>\n",
       "    <tr>\n",
       "      <th>3</th>\n",
       "      <td>0028b68c-aca4-4f4f-bb1d-cb4ed5bbd952.wav</td>\n",
       "      <td>0028b68c-aca4-4f4f-bb1d-cb4ed5bbd952.json</td>\n",
       "      <td>healthy</td>\n",
       "      <td>tensor(28., dtype=torch.float64)</td>\n",
       "      <td>female</td>\n",
       "      <td>tensor(0.8937, dtype=torch.float64)</td>\n",
       "      <td>tensor(False)</td>\n",
       "      <td>tensor(False)</td>\n",
       "      <td>unspecified</td>\n",
       "      <td>tensor(0)</td>\n",
       "      <td>0.0</td>\n",
       "      <td>0</td>\n",
       "    </tr>\n",
       "    <tr>\n",
       "      <th>4</th>\n",
       "      <td>00291cce-36a0-4a29-9e2d-c1d96ca17242.wav</td>\n",
       "      <td>00291cce-36a0-4a29-9e2d-c1d96ca17242.json</td>\n",
       "      <td>healthy</td>\n",
       "      <td>tensor(15., dtype=torch.float64)</td>\n",
       "      <td>male</td>\n",
       "      <td>tensor(0.9883, dtype=torch.float64)</td>\n",
       "      <td>tensor(False)</td>\n",
       "      <td>tensor(False)</td>\n",
       "      <td>unspecified</td>\n",
       "      <td>tensor(0)</td>\n",
       "      <td>0.0</td>\n",
       "      <td>0</td>\n",
       "    </tr>\n",
       "  </tbody>\n",
       "</table>\n",
       "</div>"
      ]
     },
     "execution_count": 1,
     "metadata": {},
     "output_type": "execute_result"
    }
   ],
   "execution_count": 1
  },
  {
   "metadata": {
    "ExecuteTime": {
     "end_time": "2025-04-02T19:18:12.027521Z",
     "start_time": "2025-04-02T19:18:12.000725Z"
    }
   },
   "cell_type": "code",
   "source": [
    "# Distribution of predicted labels\n",
    "df['predicted_label'].value_counts(normalize=True)\n",
    "\n",
    "# True vs predicted breakdown\n",
    "pd.crosstab(df['label'], df['predicted_label'], rownames=[\"Actual\"], colnames=[\"Predicted\"])\n",
    "\n",
    "# Inspect low-confidence predictions (if any)\n",
    "df[['filename', 'predicted_prob', 'predicted_label']].sort_values('predicted_prob').head(10)\n"
   ],
   "id": "761449973b1beee6",
   "outputs": [
    {
     "data": {
      "text/plain": [
       "                                      filename  predicted_prob  \\\n",
       "8847  ffe0658f-bade-4654-ad79-40a468aabb03.wav             0.0   \n",
       "8846  ffd42893-4119-4855-9aad-c67d8d392cc1.wav             0.0   \n",
       "8845  ffd18a56-096d-40fc-9862-e5c5a8ca1fcd.wav             0.0   \n",
       "8844  ffbc6bfc-bd8f-4d65-97a7-638d69f42205.wav             0.0   \n",
       "8843  ffbbc942-d2d1-4f46-a09a-9aa0f7e1c8c2.wav             0.0   \n",
       "8842  ffba0ba6-bd58-4fc4-a692-3d996c449a42.wav             0.0   \n",
       "8841  ffb7de27-2bf2-4af9-8153-538c64915b9e.wav             0.0   \n",
       "8840  ffa13cb9-4944-4f21-8381-701a1bd84315.wav             0.0   \n",
       "8839  ffa0c923-37dd-4ed5-a128-9c2c328437d8.wav             0.0   \n",
       "8838  ffa08364-20d1-4b7d-ae14-334a7b781826.wav             0.0   \n",
       "\n",
       "      predicted_label  \n",
       "8847                0  \n",
       "8846                0  \n",
       "8845                0  \n",
       "8844                0  \n",
       "8843                0  \n",
       "8842                0  \n",
       "8841                0  \n",
       "8840                0  \n",
       "8839                0  \n",
       "8838                0  "
      ],
      "text/html": [
       "<div>\n",
       "<style scoped>\n",
       "    .dataframe tbody tr th:only-of-type {\n",
       "        vertical-align: middle;\n",
       "    }\n",
       "\n",
       "    .dataframe tbody tr th {\n",
       "        vertical-align: top;\n",
       "    }\n",
       "\n",
       "    .dataframe thead th {\n",
       "        text-align: right;\n",
       "    }\n",
       "</style>\n",
       "<table border=\"1\" class=\"dataframe\">\n",
       "  <thead>\n",
       "    <tr style=\"text-align: right;\">\n",
       "      <th></th>\n",
       "      <th>filename</th>\n",
       "      <th>predicted_prob</th>\n",
       "      <th>predicted_label</th>\n",
       "    </tr>\n",
       "  </thead>\n",
       "  <tbody>\n",
       "    <tr>\n",
       "      <th>8847</th>\n",
       "      <td>ffe0658f-bade-4654-ad79-40a468aabb03.wav</td>\n",
       "      <td>0.0</td>\n",
       "      <td>0</td>\n",
       "    </tr>\n",
       "    <tr>\n",
       "      <th>8846</th>\n",
       "      <td>ffd42893-4119-4855-9aad-c67d8d392cc1.wav</td>\n",
       "      <td>0.0</td>\n",
       "      <td>0</td>\n",
       "    </tr>\n",
       "    <tr>\n",
       "      <th>8845</th>\n",
       "      <td>ffd18a56-096d-40fc-9862-e5c5a8ca1fcd.wav</td>\n",
       "      <td>0.0</td>\n",
       "      <td>0</td>\n",
       "    </tr>\n",
       "    <tr>\n",
       "      <th>8844</th>\n",
       "      <td>ffbc6bfc-bd8f-4d65-97a7-638d69f42205.wav</td>\n",
       "      <td>0.0</td>\n",
       "      <td>0</td>\n",
       "    </tr>\n",
       "    <tr>\n",
       "      <th>8843</th>\n",
       "      <td>ffbbc942-d2d1-4f46-a09a-9aa0f7e1c8c2.wav</td>\n",
       "      <td>0.0</td>\n",
       "      <td>0</td>\n",
       "    </tr>\n",
       "    <tr>\n",
       "      <th>8842</th>\n",
       "      <td>ffba0ba6-bd58-4fc4-a692-3d996c449a42.wav</td>\n",
       "      <td>0.0</td>\n",
       "      <td>0</td>\n",
       "    </tr>\n",
       "    <tr>\n",
       "      <th>8841</th>\n",
       "      <td>ffb7de27-2bf2-4af9-8153-538c64915b9e.wav</td>\n",
       "      <td>0.0</td>\n",
       "      <td>0</td>\n",
       "    </tr>\n",
       "    <tr>\n",
       "      <th>8840</th>\n",
       "      <td>ffa13cb9-4944-4f21-8381-701a1bd84315.wav</td>\n",
       "      <td>0.0</td>\n",
       "      <td>0</td>\n",
       "    </tr>\n",
       "    <tr>\n",
       "      <th>8839</th>\n",
       "      <td>ffa0c923-37dd-4ed5-a128-9c2c328437d8.wav</td>\n",
       "      <td>0.0</td>\n",
       "      <td>0</td>\n",
       "    </tr>\n",
       "    <tr>\n",
       "      <th>8838</th>\n",
       "      <td>ffa08364-20d1-4b7d-ae14-334a7b781826.wav</td>\n",
       "      <td>0.0</td>\n",
       "      <td>0</td>\n",
       "    </tr>\n",
       "  </tbody>\n",
       "</table>\n",
       "</div>"
      ]
     },
     "execution_count": 2,
     "metadata": {},
     "output_type": "execute_result"
    }
   ],
   "execution_count": 2
  },
  {
   "metadata": {
    "ExecuteTime": {
     "end_time": "2025-04-02T19:18:31.832864Z",
     "start_time": "2025-04-02T19:18:31.619904Z"
    }
   },
   "cell_type": "code",
   "source": [
    "import matplotlib.pyplot as plt\n",
    "import seaborn as sns\n",
    "\n",
    "# Plot class distribution\n",
    "fig, axes = plt.subplots(1, 2, figsize=(12, 4))\n",
    "\n",
    "sns.countplot(x='label', data=df, ax=axes[0])\n",
    "axes[0].set_title(\"Actual Labels\")\n",
    "axes[0].set_xticklabels(['Healthy', 'COVID'])\n",
    "\n",
    "sns.countplot(x='predicted_label', data=df, ax=axes[1])\n",
    "axes[1].set_title(\"Predicted Labels\")\n",
    "axes[1].set_xticklabels(['Healthy', 'COVID'])\n",
    "\n",
    "plt.tight_layout()\n",
    "plt.show()\n"
   ],
   "id": "d61236df68fd6394",
   "outputs": [
    {
     "name": "stderr",
     "output_type": "stream",
     "text": [
      "/tmp/ipykernel_327388/545836597.py:9: UserWarning: set_ticklabels() should only be used with a fixed number of ticks, i.e. after set_ticks() or using a FixedLocator.\n",
      "  axes[0].set_xticklabels(['Healthy', 'COVID'])\n",
      "/tmp/ipykernel_327388/545836597.py:13: UserWarning: set_ticklabels() should only be used with a fixed number of ticks, i.e. after set_ticks() or using a FixedLocator.\n",
      "  axes[1].set_xticklabels(['Healthy', 'COVID'])\n"
     ]
    },
    {
     "data": {
      "text/plain": [
       "<Figure size 1200x400 with 2 Axes>"
      ],
      "image/png": "[encoded data removed]"
     },
     "metadata": {},
     "output_type": "display_data"
    }
   ],
   "execution_count": 3
  },
  {
   "metadata": {
    "ExecuteTime": {
     "end_time": "2025-04-02T19:18:54.501703Z",
     "start_time": "2025-04-02T19:18:54.487749Z"
    }
   },
   "cell_type": "code",
   "source": [
    "# Add correctness flag\n",
    "df[\"is_correct\"] = df[\"label\"] == df[\"predicted_label\"]\n",
    "\n",
    "# False Positives: predicted 1, actual 0\n",
    "fp = df[(df[\"label\"] == 0) & (df[\"predicted_label\"] == 1)]\n",
    "\n",
    "# False Negatives: predicted 0, actual 1\n",
    "fn = df[(df[\"label\"] == 1) & (df[\"predicted_label\"] == 0)]\n",
    "\n",
    "# Display counts\n",
    "print(f\"False Positives: {len(fp)}\")\n",
    "print(f\"False Negatives: {len(fn)}\")\n",
    "\n",
    "# Optional: show a few examples\n",
    "fp.head(3), fn.head(3)\n"
   ],
   "id": "3869e1ada01c9cf7",
   "outputs": [
    {
     "name": "stdout",
     "output_type": "stream",
     "text": [
      "False Positives: 0\n",
      "False Negatives: 0\n"
     ]
    },
    {
     "data": {
      "text/plain": [
       "(Empty DataFrame\n",
       " Columns: [filename, json_file, status, age, gender, cough_detected, respiratory_condition, fever_muscle_pain, difficulty_in_breathing, label, predicted_prob, predicted_label, is_correct]\n",
       " Index: [],\n",
       " Empty DataFrame\n",
       " Columns: [filename, json_file, status, age, gender, cough_detected, respiratory_condition, fever_muscle_pain, difficulty_in_breathing, label, predicted_prob, predicted_label, is_correct]\n",
       " Index: [])"
      ]
     },
     "execution_count": 4,
     "metadata": {},
     "output_type": "execute_result"
    }
   ],
   "execution_count": 4
  },
  {
   "metadata": {
    "ExecuteTime": {
     "end_time": "2025-04-02T19:19:42.101855Z",
     "start_time": "2025-04-02T19:19:42.091896Z"
    }
   },
   "cell_type": "code",
   "source": [
    "# Filter the actual COVID-19 samples\n",
    "covid_samples = df[df[\"label\"] == 1]\n",
    "\n",
    "# Visual inspection of a few cases\n",
    "covid_samples[[\"filename\", \"age\", \"gender\", \"status\", \"cough_detected\", \"respiratory_condition\", \"fever_muscle_pain\", \"difficulty_in_breathing\", \"predicted_prob\"]].head(10)\n"
   ],
   "id": "396d5913c0d99d99",
   "outputs": [
    {
     "data": {
      "text/plain": [
       "Empty DataFrame\n",
       "Columns: [filename, age, gender, status, cough_detected, respiratory_condition, fever_muscle_pain, difficulty_in_breathing, predicted_prob]\n",
       "Index: []"
      ],
      "text/html": [
       "<div>\n",
       "<style scoped>\n",
       "    .dataframe tbody tr th:only-of-type {\n",
       "        vertical-align: middle;\n",
       "    }\n",
       "\n",
       "    .dataframe tbody tr th {\n",
       "        vertical-align: top;\n",
       "    }\n",
       "\n",
       "    .dataframe thead th {\n",
       "        text-align: right;\n",
       "    }\n",
       "</style>\n",
       "<table border=\"1\" class=\"dataframe\">\n",
       "  <thead>\n",
       "    <tr style=\"text-align: right;\">\n",
       "      <th></th>\n",
       "      <th>filename</th>\n",
       "      <th>age</th>\n",
       "      <th>gender</th>\n",
       "      <th>status</th>\n",
       "      <th>cough_detected</th>\n",
       "      <th>respiratory_condition</th>\n",
       "      <th>fever_muscle_pain</th>\n",
       "      <th>difficulty_in_breathing</th>\n",
       "      <th>predicted_prob</th>\n",
       "    </tr>\n",
       "  </thead>\n",
       "  <tbody>\n",
       "  </tbody>\n",
       "</table>\n",
       "</div>"
      ]
     },
     "execution_count": 5,
     "metadata": {},
     "output_type": "execute_result"
    }
   ],
   "execution_count": 5
  },
  {
   "metadata": {
    "ExecuteTime": {
     "end_time": "2025-04-02T19:20:38.672579Z",
     "start_time": "2025-04-02T19:20:38.664501Z"
    }
   },
   "cell_type": "code",
   "source": [
    "# Separate groups\n",
    "misclassified_covid = df[(df[\"label\"] == 1) & (df[\"predicted_label\"] == 0)].copy()\n",
    "correctly_classified_healthy = df[(df[\"label\"] == 0) & (df[\"predicted_label\"] == 0)].copy()\n",
    "\n",
    "# Tag each group\n",
    "misclassified_covid[\"group\"] = \"COVID → Healthy (FN)\"\n",
    "correctly_classified_healthy[\"group\"] = \"Healthy → Healthy (TN)\"\n",
    "\n",
    "# Combine if not empty\n",
    "if len(misclassified_covid) > 0 and len(correctly_classified_healthy) > 0:\n",
    "    compare_df = pd.concat([misclassified_covid, correctly_classified_healthy])\n",
    "    plt.figure(figsize=(8, 4))\n",
    "    sns.histplot(data=compare_df, x=\"age\", hue=\"group\", kde=True, bins=20, palette=\"coolwarm\")\n",
    "    plt.title(\"Age Distribution: Misclassified COVID vs True Healthy\")\n",
    "    plt.xlabel(\"Age\")\n",
    "    plt.tight_layout()\n",
    "    plt.show()\n",
    "else:\n",
    "    print(\"No misclassified COVID samples available to compare.\")\n"
   ],
   "id": "ee37f45787b2baca",
   "outputs": [
    {
     "name": "stdout",
     "output_type": "stream",
     "text": [
      "No misclassified COVID samples available to compare.\n"
     ]
    }
   ],
   "execution_count": 8
  },
  {
   "metadata": {
    "ExecuteTime": {
     "end_time": "2025-04-02T19:20:59.274221Z",
     "start_time": "2025-04-02T19:20:59.269313Z"
    }
   },
   "cell_type": "code",
   "source": [
    "# Only proceed if both groups exist\n",
    "if len(misclassified_covid) > 0 and len(correctly_classified_healthy) > 0:\n",
    "    compare_df = pd.concat([misclassified_covid, correctly_classified_healthy])\n",
    "    plt.figure(figsize=(6, 4))\n",
    "    sns.countplot(data=compare_df, x=\"gender\", hue=\"group\", palette=\"Set2\")\n",
    "    plt.title(\"Gender Distribution: Misclassified COVID vs True Healthy\")\n",
    "    plt.xlabel(\"Gender\")\n",
    "    plt.ylabel(\"Count\")\n",
    "    plt.tight_layout()\n",
    "    plt.show()\n",
    "else:\n",
    "    print(\"No misclassified COVID samples available to compare gender.\")\n"
   ],
   "id": "f46a19a5cfd46564",
   "outputs": [
    {
     "name": "stdout",
     "output_type": "stream",
     "text": [
      "No misclassified COVID samples available to compare gender.\n"
     ]
    }
   ],
   "execution_count": 9
  },
  {
   "metadata": {},
   "cell_type": "code",
   "outputs": [],
   "execution_count": null,
   "source": "",
   "id": "945b26d757b35854"
  }
 ],
 "metadata": {
  "kernelspec": {
   "display_name": "Python 3",
   "language": "python",
   "name": "python3"
  },
  "language_info": {
   "codemirror_mode": {
    "name": "ipython",
    "version": 2
   },
   "file_extension": ".py",
   "mimetype": "text/x-python",
   "name": "python",
   "nbconvert_exporter": "python",
   "pygments_lexer": "ipython2",
   "version": "2.7.6"
  }
 },
 "nbformat": 4,
 "nbformat_minor": 5
}
